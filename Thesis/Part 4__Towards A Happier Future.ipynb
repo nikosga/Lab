{
 "cells": [
  {
   "cell_type": "markdown",
   "metadata": {},
   "source": [
    "# Towards A Happier Future \n",
    "### (and how Machine Learning can help)\n",
    "-----------------------------------------------------------------------------------------------------------------------------\n",
    "This train is reaching it's destination. In the previous parts it became obvious that using Machine Learning algorithms and specifically ensemble methods can offer highly accurate predictive models. It is commonly accepted that even though ML offers greater predictive capacity than classical techniques in statistics in many situations, it is inferior when it comes to interpretation and contribution to scientific theory. It is also a fact that even though ML is being widely used in many scientific fields, Economists are skeptical in adding ML to their toolbox. In his [paper](http://people.ischool.berkeley.edu/~hal/Papers/2013/ml.pdf), Hal Varian argues that ML can provide useful insights for Economists, that linear models are uncapable of. In this part, a decision tree will be used to provide answers that will lead to better public policy and a comparison will be made with a linear model. In particular, the following questions will be answered:\n",
    "\n",
    "* How happiness is affected by income?\n",
    "* How can we classify countries with respect to their happiness levels?"
   ]
  },
  {
   "cell_type": "markdown",
   "metadata": {},
   "source": [
    "The methodology that will be used can be broken in steps:\n",
    "* Filter 1: Feature selection using Randomised Lasso (stability selection)\n",
    "* Filter 2: Recursive feature elimination with cross validation\n",
    "* Filter 3: Feature selection by manually removing features that can be used as instruments of the same variable or are not considered general enough for the task at hand\n",
    "* Modeling 1: Using selected features to train a linear regression model \n",
    "* Modeling 2: Using selected features to train a decision tree regression model"
   ]
  },
  {
   "cell_type": "markdown",
   "metadata": {},
   "source": [
    "### Filter 1: Randomized Lasso"
   ]
  },
  {
   "cell_type": "code",
   "execution_count": 41,
   "metadata": {
    "collapsed": true
   },
   "outputs": [],
   "source": [
    "import pandas as pd\n",
    "import numpy as np\n",
    "from sklearn.preprocessing import StandardScaler\n",
    "from sklearn.linear_model import RandomizedLasso\n",
    "from sklearn.linear_model import LinearRegression\n",
    "from sklearn.tree import DecisionTreeRegressor\n",
    "from sklearn.feature_selection import RFECV\n",
    "from sklearn.model_selection import train_test_split\n",
    "from sklearn.metrics import r2_score\n",
    "import warnings\n",
    "warnings.filterwarnings('ignore')"
   ]
  },
  {
   "cell_type": "markdown",
   "metadata": {},
   "source": [
    "Importing data..."
   ]
  },
  {
   "cell_type": "code",
   "execution_count": 12,
   "metadata": {
    "collapsed": true
   },
   "outputs": [],
   "source": [
    "dfremake = pd.read_csv('C:\\\\Users\\\\nikos\\\\Desktop\\\\thesisdata\\\\2005to2014remake.csv',index_col=0)"
   ]
  },
  {
   "cell_type": "code",
   "execution_count": 13,
   "metadata": {},
   "outputs": [
    {
     "data": {
      "text/html": [
       "<div>\n",
       "<style>\n",
       "    .dataframe thead tr:only-child th {\n",
       "        text-align: right;\n",
       "    }\n",
       "\n",
       "    .dataframe thead th {\n",
       "        text-align: left;\n",
       "    }\n",
       "\n",
       "    .dataframe tbody tr th {\n",
       "        vertical-align: top;\n",
       "    }\n",
       "</style>\n",
       "<table border=\"1\" class=\"dataframe\">\n",
       "  <thead>\n",
       "    <tr style=\"text-align: right;\">\n",
       "      <th></th>\n",
       "      <th>Life Ladder</th>\n",
       "      <th>Population ages 65 and above (% of total)</th>\n",
       "      <th>Private credit bureau coverage (% of adults)</th>\n",
       "      <th>Improved water source, rural (% of rural population with access)</th>\n",
       "      <th>Time required to register property (days)</th>\n",
       "      <th>Mortality rate, infant (per 1,000 live births)</th>\n",
       "      <th>Documents to import (number)</th>\n",
       "      <th>Unemployment, total (% of total labor force)</th>\n",
       "      <th>Population, ages 0-14 (% of total)</th>\n",
       "      <th>Labor force participation rate, total (% of total population ages 15-64) (modeled ILO estimate)</th>\n",
       "      <th>...</th>\n",
       "      <th>Merchandise exports to high-income economies (% of total merchandise exports)</th>\n",
       "      <th>Merchandise exports by the reporting economy, residual (% of total merchandise exports)</th>\n",
       "      <th>Proportion of seats held by women in national parliaments (%)</th>\n",
       "      <th>GDP per capita, PPP (current international $)</th>\n",
       "      <th>Tax payments (number)</th>\n",
       "      <th>Lifetime risk of maternal death (1 in: rate varies by country)</th>\n",
       "      <th>Improved sanitation facilities (% of population with access)</th>\n",
       "      <th>Procedures to build a warehouse (number)</th>\n",
       "      <th>Merchandise exports (current US$)</th>\n",
       "      <th>Year</th>\n",
       "    </tr>\n",
       "    <tr>\n",
       "      <th>Country</th>\n",
       "      <th></th>\n",
       "      <th></th>\n",
       "      <th></th>\n",
       "      <th></th>\n",
       "      <th></th>\n",
       "      <th></th>\n",
       "      <th></th>\n",
       "      <th></th>\n",
       "      <th></th>\n",
       "      <th></th>\n",
       "      <th></th>\n",
       "      <th></th>\n",
       "      <th></th>\n",
       "      <th></th>\n",
       "      <th></th>\n",
       "      <th></th>\n",
       "      <th></th>\n",
       "      <th></th>\n",
       "      <th></th>\n",
       "      <th></th>\n",
       "      <th></th>\n",
       "    </tr>\n",
       "  </thead>\n",
       "  <tbody>\n",
       "    <tr>\n",
       "      <th>Australia</th>\n",
       "      <td>7.340688</td>\n",
       "      <td>12.913187</td>\n",
       "      <td>100.0</td>\n",
       "      <td>100.0</td>\n",
       "      <td>4.5</td>\n",
       "      <td>4.8</td>\n",
       "      <td>7.0</td>\n",
       "      <td>5.0</td>\n",
       "      <td>19.790417</td>\n",
       "      <td>75.400002</td>\n",
       "      <td>...</td>\n",
       "      <td>66.267907</td>\n",
       "      <td>1.561053</td>\n",
       "      <td>24.7</td>\n",
       "      <td>32559.459287</td>\n",
       "      <td>13.0</td>\n",
       "      <td>7700.0</td>\n",
       "      <td>100.0</td>\n",
       "      <td>10.0</td>\n",
       "      <td>1.060972e+11</td>\n",
       "      <td>2005</td>\n",
       "    </tr>\n",
       "    <tr>\n",
       "      <th>Belgium</th>\n",
       "      <td>7.262290</td>\n",
       "      <td>17.174057</td>\n",
       "      <td>0.0</td>\n",
       "      <td>100.0</td>\n",
       "      <td>132.0</td>\n",
       "      <td>4.1</td>\n",
       "      <td>4.0</td>\n",
       "      <td>8.4</td>\n",
       "      <td>17.023689</td>\n",
       "      <td>66.699997</td>\n",
       "      <td>...</td>\n",
       "      <td>91.054637</td>\n",
       "      <td>0.607397</td>\n",
       "      <td>34.7</td>\n",
       "      <td>33042.899284</td>\n",
       "      <td>11.0</td>\n",
       "      <td>7800.0</td>\n",
       "      <td>99.5</td>\n",
       "      <td>10.0</td>\n",
       "      <td>3.344001e+11</td>\n",
       "      <td>2005</td>\n",
       "    </tr>\n",
       "    <tr>\n",
       "      <th>Canada</th>\n",
       "      <td>7.418048</td>\n",
       "      <td>13.107962</td>\n",
       "      <td>100.0</td>\n",
       "      <td>99.0</td>\n",
       "      <td>16.5</td>\n",
       "      <td>5.3</td>\n",
       "      <td>3.0</td>\n",
       "      <td>6.7</td>\n",
       "      <td>17.673543</td>\n",
       "      <td>77.699997</td>\n",
       "      <td>...</td>\n",
       "      <td>95.051256</td>\n",
       "      <td>0.032781</td>\n",
       "      <td>21.1</td>\n",
       "      <td>35973.491511</td>\n",
       "      <td>9.0</td>\n",
       "      <td>7400.0</td>\n",
       "      <td>99.8</td>\n",
       "      <td>11.0</td>\n",
       "      <td>3.604752e+11</td>\n",
       "      <td>2005</td>\n",
       "    </tr>\n",
       "    <tr>\n",
       "      <th>Czech Republic</th>\n",
       "      <td>6.439257</td>\n",
       "      <td>13.986953</td>\n",
       "      <td>37.9</td>\n",
       "      <td>99.7</td>\n",
       "      <td>124.0</td>\n",
       "      <td>4.4</td>\n",
       "      <td>6.0</td>\n",
       "      <td>7.9</td>\n",
       "      <td>14.743135</td>\n",
       "      <td>70.400002</td>\n",
       "      <td>...</td>\n",
       "      <td>93.506390</td>\n",
       "      <td>0.172625</td>\n",
       "      <td>17.0</td>\n",
       "      <td>22286.457190</td>\n",
       "      <td>27.0</td>\n",
       "      <td>11600.0</td>\n",
       "      <td>99.1</td>\n",
       "      <td>21.0</td>\n",
       "      <td>7.811030e+10</td>\n",
       "      <td>2005</td>\n",
       "    </tr>\n",
       "    <tr>\n",
       "      <th>Denmark</th>\n",
       "      <td>8.018934</td>\n",
       "      <td>15.148240</td>\n",
       "      <td>7.7</td>\n",
       "      <td>100.0</td>\n",
       "      <td>42.0</td>\n",
       "      <td>4.1</td>\n",
       "      <td>3.0</td>\n",
       "      <td>4.8</td>\n",
       "      <td>18.733752</td>\n",
       "      <td>79.699997</td>\n",
       "      <td>...</td>\n",
       "      <td>93.062462</td>\n",
       "      <td>0.830054</td>\n",
       "      <td>36.9</td>\n",
       "      <td>34079.959762</td>\n",
       "      <td>10.0</td>\n",
       "      <td>6700.0</td>\n",
       "      <td>99.6</td>\n",
       "      <td>7.0</td>\n",
       "      <td>8.512085e+10</td>\n",
       "      <td>2005</td>\n",
       "    </tr>\n",
       "  </tbody>\n",
       "</table>\n",
       "<p>5 rows × 29 columns</p>\n",
       "</div>"
      ],
      "text/plain": [
       "                Life Ladder  Population ages 65 and above (% of total)  \\\n",
       "Country                                                                  \n",
       "Australia          7.340688                                  12.913187   \n",
       "Belgium            7.262290                                  17.174057   \n",
       "Canada             7.418048                                  13.107962   \n",
       "Czech Republic     6.439257                                  13.986953   \n",
       "Denmark            8.018934                                  15.148240   \n",
       "\n",
       "                Private credit bureau coverage (% of adults)  \\\n",
       "Country                                                        \n",
       "Australia                                              100.0   \n",
       "Belgium                                                  0.0   \n",
       "Canada                                                 100.0   \n",
       "Czech Republic                                          37.9   \n",
       "Denmark                                                  7.7   \n",
       "\n",
       "                Improved water source, rural (% of rural population with access)  \\\n",
       "Country                                                                            \n",
       "Australia                                                   100.0                  \n",
       "Belgium                                                     100.0                  \n",
       "Canada                                                       99.0                  \n",
       "Czech Republic                                               99.7                  \n",
       "Denmark                                                     100.0                  \n",
       "\n",
       "                Time required to register property (days)  \\\n",
       "Country                                                     \n",
       "Australia                                             4.5   \n",
       "Belgium                                             132.0   \n",
       "Canada                                               16.5   \n",
       "Czech Republic                                      124.0   \n",
       "Denmark                                              42.0   \n",
       "\n",
       "                Mortality rate, infant (per 1,000 live births)  \\\n",
       "Country                                                          \n",
       "Australia                                                  4.8   \n",
       "Belgium                                                    4.1   \n",
       "Canada                                                     5.3   \n",
       "Czech Republic                                             4.4   \n",
       "Denmark                                                    4.1   \n",
       "\n",
       "                Documents to import (number)  \\\n",
       "Country                                        \n",
       "Australia                                7.0   \n",
       "Belgium                                  4.0   \n",
       "Canada                                   3.0   \n",
       "Czech Republic                           6.0   \n",
       "Denmark                                  3.0   \n",
       "\n",
       "                Unemployment, total (% of total labor force)  \\\n",
       "Country                                                        \n",
       "Australia                                                5.0   \n",
       "Belgium                                                  8.4   \n",
       "Canada                                                   6.7   \n",
       "Czech Republic                                           7.9   \n",
       "Denmark                                                  4.8   \n",
       "\n",
       "                Population, ages 0-14 (% of total)  \\\n",
       "Country                                              \n",
       "Australia                                19.790417   \n",
       "Belgium                                  17.023689   \n",
       "Canada                                   17.673543   \n",
       "Czech Republic                           14.743135   \n",
       "Denmark                                  18.733752   \n",
       "\n",
       "                Labor force participation rate, total (% of total population ages 15-64) (modeled ILO estimate)  \\\n",
       "Country                                                                                                           \n",
       "Australia                                               75.400002                                                 \n",
       "Belgium                                                 66.699997                                                 \n",
       "Canada                                                  77.699997                                                 \n",
       "Czech Republic                                          70.400002                                                 \n",
       "Denmark                                                 79.699997                                                 \n",
       "\n",
       "                ...   \\\n",
       "Country         ...    \n",
       "Australia       ...    \n",
       "Belgium         ...    \n",
       "Canada          ...    \n",
       "Czech Republic  ...    \n",
       "Denmark         ...    \n",
       "\n",
       "                Merchandise exports to high-income economies (% of total merchandise exports)  \\\n",
       "Country                                                                                         \n",
       "Australia                                               66.267907                               \n",
       "Belgium                                                 91.054637                               \n",
       "Canada                                                  95.051256                               \n",
       "Czech Republic                                          93.506390                               \n",
       "Denmark                                                 93.062462                               \n",
       "\n",
       "                Merchandise exports by the reporting economy, residual (% of total merchandise exports)  \\\n",
       "Country                                                                                                   \n",
       "Australia                                                1.561053                                         \n",
       "Belgium                                                  0.607397                                         \n",
       "Canada                                                   0.032781                                         \n",
       "Czech Republic                                           0.172625                                         \n",
       "Denmark                                                  0.830054                                         \n",
       "\n",
       "                Proportion of seats held by women in national parliaments (%)  \\\n",
       "Country                                                                         \n",
       "Australia                                                    24.7               \n",
       "Belgium                                                      34.7               \n",
       "Canada                                                       21.1               \n",
       "Czech Republic                                               17.0               \n",
       "Denmark                                                      36.9               \n",
       "\n",
       "                GDP per capita, PPP (current international $)  \\\n",
       "Country                                                         \n",
       "Australia                                        32559.459287   \n",
       "Belgium                                          33042.899284   \n",
       "Canada                                           35973.491511   \n",
       "Czech Republic                                   22286.457190   \n",
       "Denmark                                          34079.959762   \n",
       "\n",
       "                Tax payments (number)  \\\n",
       "Country                                 \n",
       "Australia                        13.0   \n",
       "Belgium                          11.0   \n",
       "Canada                            9.0   \n",
       "Czech Republic                   27.0   \n",
       "Denmark                          10.0   \n",
       "\n",
       "                Lifetime risk of maternal death (1 in: rate varies by country)  \\\n",
       "Country                                                                          \n",
       "Australia                                                  7700.0                \n",
       "Belgium                                                    7800.0                \n",
       "Canada                                                     7400.0                \n",
       "Czech Republic                                            11600.0                \n",
       "Denmark                                                    6700.0                \n",
       "\n",
       "                Improved sanitation facilities (% of population with access)  \\\n",
       "Country                                                                        \n",
       "Australia                                                   100.0              \n",
       "Belgium                                                      99.5              \n",
       "Canada                                                       99.8              \n",
       "Czech Republic                                               99.1              \n",
       "Denmark                                                      99.6              \n",
       "\n",
       "                Procedures to build a warehouse (number)  \\\n",
       "Country                                                    \n",
       "Australia                                           10.0   \n",
       "Belgium                                             10.0   \n",
       "Canada                                              11.0   \n",
       "Czech Republic                                      21.0   \n",
       "Denmark                                              7.0   \n",
       "\n",
       "                Merchandise exports (current US$)  Year  \n",
       "Country                                                  \n",
       "Australia                            1.060972e+11  2005  \n",
       "Belgium                              3.344001e+11  2005  \n",
       "Canada                               3.604752e+11  2005  \n",
       "Czech Republic                       7.811030e+10  2005  \n",
       "Denmark                              8.512085e+10  2005  \n",
       "\n",
       "[5 rows x 29 columns]"
      ]
     },
     "execution_count": 13,
     "metadata": {},
     "output_type": "execute_result"
    }
   ],
   "source": [
    "dfremake.head()"
   ]
  },
  {
   "cell_type": "code",
   "execution_count": 10,
   "metadata": {
    "collapsed": true
   },
   "outputs": [],
   "source": [
    "#A helper method for pretty-printing linear models\n",
    "def pretty_print_linear(coefs, names = None, sort = False):\n",
    "    if names == None:\n",
    "        names = [\"X%s\" % x for x in range(len(coefs))]\n",
    "    lst = zip(coefs, names)\n",
    "    if sort:\n",
    "        lst = sorted(lst,  key = lambda x:-np.abs(x[0]))\n",
    "    return \" + \".join(\"%s * %s\" % (round(coef, 3), name)\n",
    "                                   for coef, name in lst)"
   ]
  },
  {
   "cell_type": "markdown",
   "metadata": {},
   "source": [
    "Performing stability selection with Randomized Lasso (information can be found [here](https://stat.ethz.ch/~nicolai/stability.pdf))"
   ]
  },
  {
   "cell_type": "code",
   "execution_count": 23,
   "metadata": {},
   "outputs": [
    {
     "data": {
      "text/plain": [
       "RandomizedLasso(alpha=0.0008, eps=2.2204460492503131e-16, fit_intercept=True,\n",
       "        max_iter=500, memory=None, n_jobs=1, n_resampling=200,\n",
       "        normalize=True, pre_dispatch='3*n_jobs', precompute='auto',\n",
       "        random_state=2, sample_fraction=0.5, scaling=0.5,\n",
       "        selection_threshold=0.25, verbose=False)"
      ]
     },
     "execution_count": 23,
     "metadata": {},
     "output_type": "execute_result"
    }
   ],
   "source": [
    "X=dfremake.drop(\"Life Ladder\",axis=1)\n",
    "X = StandardScaler().fit_transform(X)\n",
    "y= dfremake[\"Life Ladder\"]\n",
    "model = RandomizedLasso(alpha=0.0008,random_state=2,sample_fraction=.5)\n",
    "model.fit(X,y)"
   ]
  },
  {
   "cell_type": "markdown",
   "metadata": {},
   "source": [
    "The following features were chosen"
   ]
  },
  {
   "cell_type": "code",
   "execution_count": 24,
   "metadata": {},
   "outputs": [
    {
     "data": {
      "text/plain": [
       "['Population ages 65 and above (% of total)',\n",
       " 'Private credit bureau coverage (% of adults)',\n",
       " 'Improved water source, rural (% of rural population with access)',\n",
       " 'Time required to register property (days)',\n",
       " 'Mortality rate, infant (per 1,000 live births)',\n",
       " 'Documents to import (number)',\n",
       " 'Unemployment, total (% of total labor force)',\n",
       " 'Foreign direct investment, net inflows (BoP, current US$)',\n",
       " 'GDP growth (annual %)',\n",
       " 'Time required to start a business (days)',\n",
       " 'Rural population (% of total population)',\n",
       " 'Merchandise exports to high-income economies (% of total merchandise exports)',\n",
       " 'Proportion of seats held by women in national parliaments (%)',\n",
       " 'GDP per capita, PPP (current international $)',\n",
       " 'Lifetime risk of maternal death (1 in: rate varies by country)',\n",
       " 'Improved sanitation facilities (% of population with access)',\n",
       " 'Procedures to build a warehouse (number)',\n",
       " 'Merchandise exports (current US$)',\n",
       " 'Year']"
      ]
     },
     "execution_count": 24,
     "metadata": {},
     "output_type": "execute_result"
    }
   ],
   "source": [
    "filterdcols = model.get_support()\n",
    "filterdcols = pd.Series(True).append(pd.Series(filterdcols),ignore_index=True)\n",
    "frame = dfremake[dfremake.columns[filterdcols]]\n",
    "list(frame.columns)[1:]"
   ]
  },
  {
   "cell_type": "markdown",
   "metadata": {},
   "source": [
    "### Filter 2: Recursive Feature Elimination with Cross Validation"
   ]
  },
  {
   "cell_type": "code",
   "execution_count": 25,
   "metadata": {
    "collapsed": true
   },
   "outputs": [],
   "source": [
    "y = frame.iloc[:,0]\n",
    "X = frame.drop([\"Life Ladder\"],axis=1)\n",
    "reg = LinearRegression()\n",
    "rfecv = RFECV(estimator=reg)\n",
    "rfecv.fit(X, y)\n",
    "newdf = frame.drop(X.columns[rfecv.ranking_>1],axis=1)"
   ]
  },
  {
   "cell_type": "code",
   "execution_count": 27,
   "metadata": {},
   "outputs": [
    {
     "data": {
      "text/plain": [
       "array([1, 1, 1, 1, 1, 1, 1, 1, 1, 1, 1, 1, 1, 1, 1, 1, 1, 2, 1])"
      ]
     },
     "execution_count": 27,
     "metadata": {},
     "output_type": "execute_result"
    }
   ],
   "source": [
    "#All features were ranked as 1 except Merchandise exports \n",
    "rfecv.ranking_"
   ]
  },
  {
   "cell_type": "markdown",
   "metadata": {},
   "source": [
    "### Filter 3: Manual Selection"
   ]
  },
  {
   "cell_type": "code",
   "execution_count": 29,
   "metadata": {
    "collapsed": true
   },
   "outputs": [],
   "source": [
    "dfremake = pd.read_csv('C:\\\\Users\\\\nikos\\\\Desktop\\\\thesisdata\\\\2005to2014remake2.csv',index_col=0)"
   ]
  },
  {
   "cell_type": "code",
   "execution_count": 31,
   "metadata": {},
   "outputs": [
    {
     "data": {
      "text/plain": [
       "['Life Ladder',\n",
       " 'Merchandise exports to high-income economies (% of total merchandise exports)',\n",
       " 'Population ages 65 and above (% of total)',\n",
       " 'Unemployment, total (% of total labor force)',\n",
       " 'Proportion of seats held by women in national parliaments (%)',\n",
       " 'GDP per capita, PPP (current international $)',\n",
       " 'GDP growth (annual %)',\n",
       " 'Time required to register property (days)',\n",
       " 'Improved sanitation facilities (% of population with access)',\n",
       " 'Rural population (% of total population)',\n",
       " 'Year',\n",
       " 'Documents to import (number)']"
      ]
     },
     "execution_count": 31,
     "metadata": {},
     "output_type": "execute_result"
    }
   ],
   "source": [
    "list(dfremake.columns)"
   ]
  },
  {
   "cell_type": "markdown",
   "metadata": {},
   "source": [
    "### Modeling 1: Linear regression"
   ]
  },
  {
   "cell_type": "code",
   "execution_count": 39,
   "metadata": {},
   "outputs": [
    {
     "name": "stdout",
     "output_type": "stream",
     "text": [
      "R^2 = 0.683004593558\n"
     ]
    }
   ],
   "source": [
    "y = dfremake.iloc[:,0]\n",
    "X = dfremake.drop([\"Life Ladder\"],axis=1)\n",
    "X = StandardScaler().fit_transform(X)\n",
    "Xtrain,Xtest,ytrain,ytest = train_test_split(X,y,random_state=1)\n",
    "model = LinearRegression()\n",
    "print(\"R^2 = \"+str(r2_score(ytest,model.fit(Xtrain,ytrain).predict(Xtest))))"
   ]
  },
  {
   "cell_type": "markdown",
   "metadata": {},
   "source": [
    "The model:"
   ]
  },
  {
   "cell_type": "code",
   "execution_count": 36,
   "metadata": {},
   "outputs": [
    {
     "name": "stdout",
     "output_type": "stream",
     "text": [
      "Linear model: 0.39 * Improved sanitation facilities (% of population with access) + -0.266 * Rural population (% of total population) + 0.258 * GDP per capita, PPP (current international $) + 0.224 * Proportion of seats held by women in national parliaments (%) + -0.214 * Unemployment, total (% of total labor force) + -0.174 * Documents to import (number) + 0.146 * Merchandise exports to high-income economies (% of total merchandise exports) + -0.118 * Population ages 65 and above (% of total) + -0.047 * Year + -0.047 * Time required to register property (days) + 0.012 * GDP growth (annual %)\n"
     ]
    }
   ],
   "source": [
    "print(\"Linear model:\", pretty_print_linear(model.coef_,names =dfremake.drop([\"Life Ladder\"],axis=1).columns.values,sort=True))"
   ]
  },
  {
   "cell_type": "code",
   "execution_count": 37,
   "metadata": {},
   "outputs": [
    {
     "data": {
      "text/plain": [
       "5.4642888046032718"
      ]
     },
     "execution_count": 37,
     "metadata": {},
     "output_type": "execute_result"
    }
   ],
   "source": [
    "#the intercept of the model\n",
    "model.intercept_"
   ]
  },
  {
   "cell_type": "markdown",
   "metadata": {},
   "source": [
    "The regressors of the model are presented with respect to their importance. The intuition behind the sorting is that if we standardize all features before training the model, then those with larger partial coefficients will be more linearly related than those with smaller coefficients. "
   ]
  },
  {
   "cell_type": "markdown",
   "metadata": {},
   "source": [
    "### Modeling 2: Decision Tree"
   ]
  },
  {
   "cell_type": "code",
   "execution_count": 48,
   "metadata": {},
   "outputs": [
    {
     "name": "stdout",
     "output_type": "stream",
     "text": [
      "R^2 = 0.745608164115\n"
     ]
    }
   ],
   "source": [
    "X=dfremake.drop(\"Life Ladder\",axis=1)\n",
    "y=dfremake[\"Life Ladder\"]\n",
    "Xtrain,Xtest,ytrain,ytest = train_test_split(X,y,random_state=0)\n",
    "model = DecisionTreeRegressor(max_depth=3,min_samples_split=50,min_samples_leaf=10)\n",
    "print(\"R^2 = \"+str(r2_score(ytest,model.fit(Xtrain,ytrain).predict(Xtest))))"
   ]
  },
  {
   "cell_type": "markdown",
   "metadata": {},
   "source": [
    "We have a significant increase in predictive power but what is more important is the insights we gain from it's visualization."
   ]
  },
  {
   "cell_type": "markdown",
   "metadata": {},
   "source": [
    "![](https://raw.githubusercontent.com/nikosga/Thesis_Project/master/pics/treehappy.png)"
   ]
  },
  {
   "cell_type": "markdown",
   "metadata": {},
   "source": [
    "### Discussion / Results"
   ]
  },
  {
   "cell_type": "markdown",
   "metadata": {},
   "source": [
    "* Top-Down interpretation: The features that are used as criteria in the top of the tree are considered by the model as more crucial and general, compared to those in the lower levels of the tree. \n",
    "* Color-tone interpretation: The brighter coloured nodes represent higher levels of the dependent variable (happiness)\n",
    "* From previous chapters it was made clear that GDP per capita plays a major role in happiness. The linear model fails to pinpoint the exact impact it has on happiness since the effect of DGP per capita is evenly spread in all happiness levels. By interpreting it's partial coefficient we can state that, keeping other things constant, for a unit increase in GDP per capita we have a 0.26 of a unit increase in a country's happiness on average. This is quite misleading and its impact was strong since GDP was used as the main indicator of well-being. This is not the case in our decision tree since it's made clear that GDP per capita should be used as a criterion for values under 30K $. The first branch seperates countries in 2 categories wrt to their GDP per capita status and then it's used again in the next branch. This shows the relevance of GDP per capita in countries with values under 30K. On the contrary, countries with values over this threshold should focus their policy on other measures of development. \n",
    "* Starting from left to right we can classify the countries in the following categories with respect to the criteria they meet. The first category are the countries that struggle with vitality issues. Countries that people don't reach ages over 65 due to health, hunger or war. They don't have access to clean water or food. They belong to the lowest happiness level. In the next level we have countries that face different types of problems. They have high levels of unemployment and even if they don't face the same problems with the previous category they are still considered unhappy. Next, we find countries that can be separated with respect to their exports and  especially to high income economies. Searching more on these countries we find that the ones with high levels of exports in high income economies produce mainly machinery equipment and chemicals while those with lower levels of that variable export coal, petroleum and oil. So this variable can be considered an instrument of higher education in the workforce.  The last category contains countries that have fulfilled the previous targets and focus to higher level values such as respect, equality and justice to name but a few. Additional income isn't likely to increase their hapiness and so their policy should have different goals. \n",
    "* While the first categories need to pay attention in increasing their GDP, this is not the case for the countries belonging in the higher happiness level categories. Seats held by women in national parliaments is used as an instrument to measures the difference that countries have in the organization of their society and their quality of values. Specifically, we can see that the increase in happiness by increasing the life expectancy in the lower levels is more or less the same with the increase in happiness by paying attention to the values of the societies in higher levels of happiness."
   ]
  },
  {
   "cell_type": "markdown",
   "metadata": {},
   "source": [
    "The following results are extemely useful. By classifying countries in different happiness categories we can implement different policy measures to each one. Health and income are crucial in the lower levels, while education, values, equality and justice in higher levels."
   ]
  },
  {
   "cell_type": "markdown",
   "metadata": {
    "collapsed": true
   },
   "source": [
    "![](https://raw.githubusercontent.com/nikosga/Thesis_Project/master/pics/PYRAMIDHAPPY.png)"
   ]
  },
  {
   "cell_type": "markdown",
   "metadata": {},
   "source": [
    "## The End\n",
    "-----------------------------------------------------------------------------------------------------------------------------"
   ]
  }
 ],
 "metadata": {
  "kernelspec": {
   "display_name": "Python 3",
   "language": "python",
   "name": "python3"
  },
  "language_info": {
   "codemirror_mode": {
    "name": "ipython",
    "version": 3
   },
   "file_extension": ".py",
   "mimetype": "text/x-python",
   "name": "python",
   "nbconvert_exporter": "python",
   "pygments_lexer": "ipython3",
   "version": "3.6.1"
  }
 },
 "nbformat": 4,
 "nbformat_minor": 2
}
